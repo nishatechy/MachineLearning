{
  "nbformat": 4,
  "nbformat_minor": 0,
  "metadata": {
    "colab": {
      "provenance": []
    },
    "kernelspec": {
      "name": "python3",
      "display_name": "Python 3"
    },
    "language_info": {
      "name": "python"
    }
  },
  "cells": [
    {
      "cell_type": "code",
      "execution_count": null,
      "metadata": {
        "id": "NAQ9ziS_7-0F"
      },
      "outputs": [],
      "source": [
        "import numpy as np\n",
        "import pandas as pd\n"
      ]
    },
    {
      "cell_type": "code",
      "source": [
        "data=pd.read_csv(\"/content/student college data (1).csv\")"
      ],
      "metadata": {
        "id": "wp66OS6Z94R8"
      },
      "execution_count": null,
      "outputs": []
    },
    {
      "cell_type": "code",
      "source": [
        "data.head()"
      ],
      "metadata": {
        "colab": {
          "base_uri": "https://localhost:8080/",
          "height": 357
        },
        "id": "2DSzYcWM-jsn",
        "outputId": "6e81e133-184e-4c60-e922-fcd5f3b18e70"
      },
      "execution_count": null,
      "outputs": [
        {
          "output_type": "execute_result",
          "data": {
            "text/plain": [
              "  type_school school_accreditation  gender         interest residence  \\\n",
              "0    Academic                    A    Male  Less Interested     Urban   \n",
              "1    Academic                    A    Male  Less Interested     Urban   \n",
              "2    Academic                    B  Female  Very Interested     Urban   \n",
              "3  Vocational                    B    Male  Very Interested     Rural   \n",
              "4    Academic                    A  Female  Very Interested     Urban   \n",
              "\n",
              "   parent_age  parent_salary  house_area  average_grades  \\\n",
              "0          56        6950000        83.0           84.09   \n",
              "1          57        4410000        76.8           86.91   \n",
              "2          50        6500000        80.6           87.43   \n",
              "3          49        6600000        78.2           82.12   \n",
              "4          57        5250000        75.1           86.79   \n",
              "\n",
              "   parent_was_in_college  \n",
              "0                  False  \n",
              "1                  False  \n",
              "2                  False  \n",
              "3                   True  \n",
              "4                  False  "
            ],
            "text/html": [
              "\n",
              "  <div id=\"df-acbaba58-fdfa-4afb-a3da-e47eeb912868\">\n",
              "    <div class=\"colab-df-container\">\n",
              "      <div>\n",
              "<style scoped>\n",
              "    .dataframe tbody tr th:only-of-type {\n",
              "        vertical-align: middle;\n",
              "    }\n",
              "\n",
              "    .dataframe tbody tr th {\n",
              "        vertical-align: top;\n",
              "    }\n",
              "\n",
              "    .dataframe thead th {\n",
              "        text-align: right;\n",
              "    }\n",
              "</style>\n",
              "<table border=\"1\" class=\"dataframe\">\n",
              "  <thead>\n",
              "    <tr style=\"text-align: right;\">\n",
              "      <th></th>\n",
              "      <th>type_school</th>\n",
              "      <th>school_accreditation</th>\n",
              "      <th>gender</th>\n",
              "      <th>interest</th>\n",
              "      <th>residence</th>\n",
              "      <th>parent_age</th>\n",
              "      <th>parent_salary</th>\n",
              "      <th>house_area</th>\n",
              "      <th>average_grades</th>\n",
              "      <th>parent_was_in_college</th>\n",
              "    </tr>\n",
              "  </thead>\n",
              "  <tbody>\n",
              "    <tr>\n",
              "      <th>0</th>\n",
              "      <td>Academic</td>\n",
              "      <td>A</td>\n",
              "      <td>Male</td>\n",
              "      <td>Less Interested</td>\n",
              "      <td>Urban</td>\n",
              "      <td>56</td>\n",
              "      <td>6950000</td>\n",
              "      <td>83.0</td>\n",
              "      <td>84.09</td>\n",
              "      <td>False</td>\n",
              "    </tr>\n",
              "    <tr>\n",
              "      <th>1</th>\n",
              "      <td>Academic</td>\n",
              "      <td>A</td>\n",
              "      <td>Male</td>\n",
              "      <td>Less Interested</td>\n",
              "      <td>Urban</td>\n",
              "      <td>57</td>\n",
              "      <td>4410000</td>\n",
              "      <td>76.8</td>\n",
              "      <td>86.91</td>\n",
              "      <td>False</td>\n",
              "    </tr>\n",
              "    <tr>\n",
              "      <th>2</th>\n",
              "      <td>Academic</td>\n",
              "      <td>B</td>\n",
              "      <td>Female</td>\n",
              "      <td>Very Interested</td>\n",
              "      <td>Urban</td>\n",
              "      <td>50</td>\n",
              "      <td>6500000</td>\n",
              "      <td>80.6</td>\n",
              "      <td>87.43</td>\n",
              "      <td>False</td>\n",
              "    </tr>\n",
              "    <tr>\n",
              "      <th>3</th>\n",
              "      <td>Vocational</td>\n",
              "      <td>B</td>\n",
              "      <td>Male</td>\n",
              "      <td>Very Interested</td>\n",
              "      <td>Rural</td>\n",
              "      <td>49</td>\n",
              "      <td>6600000</td>\n",
              "      <td>78.2</td>\n",
              "      <td>82.12</td>\n",
              "      <td>True</td>\n",
              "    </tr>\n",
              "    <tr>\n",
              "      <th>4</th>\n",
              "      <td>Academic</td>\n",
              "      <td>A</td>\n",
              "      <td>Female</td>\n",
              "      <td>Very Interested</td>\n",
              "      <td>Urban</td>\n",
              "      <td>57</td>\n",
              "      <td>5250000</td>\n",
              "      <td>75.1</td>\n",
              "      <td>86.79</td>\n",
              "      <td>False</td>\n",
              "    </tr>\n",
              "  </tbody>\n",
              "</table>\n",
              "</div>\n",
              "      <button class=\"colab-df-convert\" onclick=\"convertToInteractive('df-acbaba58-fdfa-4afb-a3da-e47eeb912868')\"\n",
              "              title=\"Convert this dataframe to an interactive table.\"\n",
              "              style=\"display:none;\">\n",
              "        \n",
              "  <svg xmlns=\"http://www.w3.org/2000/svg\" height=\"24px\"viewBox=\"0 0 24 24\"\n",
              "       width=\"24px\">\n",
              "    <path d=\"M0 0h24v24H0V0z\" fill=\"none\"/>\n",
              "    <path d=\"M18.56 5.44l.94 2.06.94-2.06 2.06-.94-2.06-.94-.94-2.06-.94 2.06-2.06.94zm-11 1L8.5 8.5l.94-2.06 2.06-.94-2.06-.94L8.5 2.5l-.94 2.06-2.06.94zm10 10l.94 2.06.94-2.06 2.06-.94-2.06-.94-.94-2.06-.94 2.06-2.06.94z\"/><path d=\"M17.41 7.96l-1.37-1.37c-.4-.4-.92-.59-1.43-.59-.52 0-1.04.2-1.43.59L10.3 9.45l-7.72 7.72c-.78.78-.78 2.05 0 2.83L4 21.41c.39.39.9.59 1.41.59.51 0 1.02-.2 1.41-.59l7.78-7.78 2.81-2.81c.8-.78.8-2.07 0-2.86zM5.41 20L4 18.59l7.72-7.72 1.47 1.35L5.41 20z\"/>\n",
              "  </svg>\n",
              "      </button>\n",
              "      \n",
              "  <style>\n",
              "    .colab-df-container {\n",
              "      display:flex;\n",
              "      flex-wrap:wrap;\n",
              "      gap: 12px;\n",
              "    }\n",
              "\n",
              "    .colab-df-convert {\n",
              "      background-color: #E8F0FE;\n",
              "      border: none;\n",
              "      border-radius: 50%;\n",
              "      cursor: pointer;\n",
              "      display: none;\n",
              "      fill: #1967D2;\n",
              "      height: 32px;\n",
              "      padding: 0 0 0 0;\n",
              "      width: 32px;\n",
              "    }\n",
              "\n",
              "    .colab-df-convert:hover {\n",
              "      background-color: #E2EBFA;\n",
              "      box-shadow: 0px 1px 2px rgba(60, 64, 67, 0.3), 0px 1px 3px 1px rgba(60, 64, 67, 0.15);\n",
              "      fill: #174EA6;\n",
              "    }\n",
              "\n",
              "    [theme=dark] .colab-df-convert {\n",
              "      background-color: #3B4455;\n",
              "      fill: #D2E3FC;\n",
              "    }\n",
              "\n",
              "    [theme=dark] .colab-df-convert:hover {\n",
              "      background-color: #434B5C;\n",
              "      box-shadow: 0px 1px 3px 1px rgba(0, 0, 0, 0.15);\n",
              "      filter: drop-shadow(0px 1px 2px rgba(0, 0, 0, 0.3));\n",
              "      fill: #FFFFFF;\n",
              "    }\n",
              "  </style>\n",
              "\n",
              "      <script>\n",
              "        const buttonEl =\n",
              "          document.querySelector('#df-acbaba58-fdfa-4afb-a3da-e47eeb912868 button.colab-df-convert');\n",
              "        buttonEl.style.display =\n",
              "          google.colab.kernel.accessAllowed ? 'block' : 'none';\n",
              "\n",
              "        async function convertToInteractive(key) {\n",
              "          const element = document.querySelector('#df-acbaba58-fdfa-4afb-a3da-e47eeb912868');\n",
              "          const dataTable =\n",
              "            await google.colab.kernel.invokeFunction('convertToInteractive',\n",
              "                                                     [key], {});\n",
              "          if (!dataTable) return;\n",
              "\n",
              "          const docLinkHtml = 'Like what you see? Visit the ' +\n",
              "            '<a target=\"_blank\" href=https://colab.research.google.com/notebooks/data_table.ipynb>data table notebook</a>'\n",
              "            + ' to learn more about interactive tables.';\n",
              "          element.innerHTML = '';\n",
              "          dataTable['output_type'] = 'display_data';\n",
              "          await google.colab.output.renderOutput(dataTable, element);\n",
              "          const docLink = document.createElement('div');\n",
              "          docLink.innerHTML = docLinkHtml;\n",
              "          element.appendChild(docLink);\n",
              "        }\n",
              "      </script>\n",
              "    </div>\n",
              "  </div>\n",
              "  "
            ]
          },
          "metadata": {},
          "execution_count": 19
        }
      ]
    },
    {
      "cell_type": "code",
      "source": [
        "new_data=data.iloc[:,5:9]"
      ],
      "metadata": {
        "id": "hlpOldcN-vgY"
      },
      "execution_count": null,
      "outputs": []
    },
    {
      "cell_type": "code",
      "source": [
        "new_data.head()"
      ],
      "metadata": {
        "colab": {
          "base_uri": "https://localhost:8080/",
          "height": 206
        },
        "id": "jatlawm7-wMf",
        "outputId": "bdce9bdb-b4a5-45ed-b055-cb25caebaa13"
      },
      "execution_count": null,
      "outputs": [
        {
          "output_type": "execute_result",
          "data": {
            "text/plain": [
              "   parent_age  parent_salary  house_area  average_grades\n",
              "0          56        6950000        83.0           84.09\n",
              "1          57        4410000        76.8           86.91\n",
              "2          50        6500000        80.6           87.43\n",
              "3          49        6600000        78.2           82.12\n",
              "4          57        5250000        75.1           86.79"
            ],
            "text/html": [
              "\n",
              "  <div id=\"df-e274d2c8-2787-4ce0-9f58-e0c56656d11d\">\n",
              "    <div class=\"colab-df-container\">\n",
              "      <div>\n",
              "<style scoped>\n",
              "    .dataframe tbody tr th:only-of-type {\n",
              "        vertical-align: middle;\n",
              "    }\n",
              "\n",
              "    .dataframe tbody tr th {\n",
              "        vertical-align: top;\n",
              "    }\n",
              "\n",
              "    .dataframe thead th {\n",
              "        text-align: right;\n",
              "    }\n",
              "</style>\n",
              "<table border=\"1\" class=\"dataframe\">\n",
              "  <thead>\n",
              "    <tr style=\"text-align: right;\">\n",
              "      <th></th>\n",
              "      <th>parent_age</th>\n",
              "      <th>parent_salary</th>\n",
              "      <th>house_area</th>\n",
              "      <th>average_grades</th>\n",
              "    </tr>\n",
              "  </thead>\n",
              "  <tbody>\n",
              "    <tr>\n",
              "      <th>0</th>\n",
              "      <td>56</td>\n",
              "      <td>6950000</td>\n",
              "      <td>83.0</td>\n",
              "      <td>84.09</td>\n",
              "    </tr>\n",
              "    <tr>\n",
              "      <th>1</th>\n",
              "      <td>57</td>\n",
              "      <td>4410000</td>\n",
              "      <td>76.8</td>\n",
              "      <td>86.91</td>\n",
              "    </tr>\n",
              "    <tr>\n",
              "      <th>2</th>\n",
              "      <td>50</td>\n",
              "      <td>6500000</td>\n",
              "      <td>80.6</td>\n",
              "      <td>87.43</td>\n",
              "    </tr>\n",
              "    <tr>\n",
              "      <th>3</th>\n",
              "      <td>49</td>\n",
              "      <td>6600000</td>\n",
              "      <td>78.2</td>\n",
              "      <td>82.12</td>\n",
              "    </tr>\n",
              "    <tr>\n",
              "      <th>4</th>\n",
              "      <td>57</td>\n",
              "      <td>5250000</td>\n",
              "      <td>75.1</td>\n",
              "      <td>86.79</td>\n",
              "    </tr>\n",
              "  </tbody>\n",
              "</table>\n",
              "</div>\n",
              "      <button class=\"colab-df-convert\" onclick=\"convertToInteractive('df-e274d2c8-2787-4ce0-9f58-e0c56656d11d')\"\n",
              "              title=\"Convert this dataframe to an interactive table.\"\n",
              "              style=\"display:none;\">\n",
              "        \n",
              "  <svg xmlns=\"http://www.w3.org/2000/svg\" height=\"24px\"viewBox=\"0 0 24 24\"\n",
              "       width=\"24px\">\n",
              "    <path d=\"M0 0h24v24H0V0z\" fill=\"none\"/>\n",
              "    <path d=\"M18.56 5.44l.94 2.06.94-2.06 2.06-.94-2.06-.94-.94-2.06-.94 2.06-2.06.94zm-11 1L8.5 8.5l.94-2.06 2.06-.94-2.06-.94L8.5 2.5l-.94 2.06-2.06.94zm10 10l.94 2.06.94-2.06 2.06-.94-2.06-.94-.94-2.06-.94 2.06-2.06.94z\"/><path d=\"M17.41 7.96l-1.37-1.37c-.4-.4-.92-.59-1.43-.59-.52 0-1.04.2-1.43.59L10.3 9.45l-7.72 7.72c-.78.78-.78 2.05 0 2.83L4 21.41c.39.39.9.59 1.41.59.51 0 1.02-.2 1.41-.59l7.78-7.78 2.81-2.81c.8-.78.8-2.07 0-2.86zM5.41 20L4 18.59l7.72-7.72 1.47 1.35L5.41 20z\"/>\n",
              "  </svg>\n",
              "      </button>\n",
              "      \n",
              "  <style>\n",
              "    .colab-df-container {\n",
              "      display:flex;\n",
              "      flex-wrap:wrap;\n",
              "      gap: 12px;\n",
              "    }\n",
              "\n",
              "    .colab-df-convert {\n",
              "      background-color: #E8F0FE;\n",
              "      border: none;\n",
              "      border-radius: 50%;\n",
              "      cursor: pointer;\n",
              "      display: none;\n",
              "      fill: #1967D2;\n",
              "      height: 32px;\n",
              "      padding: 0 0 0 0;\n",
              "      width: 32px;\n",
              "    }\n",
              "\n",
              "    .colab-df-convert:hover {\n",
              "      background-color: #E2EBFA;\n",
              "      box-shadow: 0px 1px 2px rgba(60, 64, 67, 0.3), 0px 1px 3px 1px rgba(60, 64, 67, 0.15);\n",
              "      fill: #174EA6;\n",
              "    }\n",
              "\n",
              "    [theme=dark] .colab-df-convert {\n",
              "      background-color: #3B4455;\n",
              "      fill: #D2E3FC;\n",
              "    }\n",
              "\n",
              "    [theme=dark] .colab-df-convert:hover {\n",
              "      background-color: #434B5C;\n",
              "      box-shadow: 0px 1px 3px 1px rgba(0, 0, 0, 0.15);\n",
              "      filter: drop-shadow(0px 1px 2px rgba(0, 0, 0, 0.3));\n",
              "      fill: #FFFFFF;\n",
              "    }\n",
              "  </style>\n",
              "\n",
              "      <script>\n",
              "        const buttonEl =\n",
              "          document.querySelector('#df-e274d2c8-2787-4ce0-9f58-e0c56656d11d button.colab-df-convert');\n",
              "        buttonEl.style.display =\n",
              "          google.colab.kernel.accessAllowed ? 'block' : 'none';\n",
              "\n",
              "        async function convertToInteractive(key) {\n",
              "          const element = document.querySelector('#df-e274d2c8-2787-4ce0-9f58-e0c56656d11d');\n",
              "          const dataTable =\n",
              "            await google.colab.kernel.invokeFunction('convertToInteractive',\n",
              "                                                     [key], {});\n",
              "          if (!dataTable) return;\n",
              "\n",
              "          const docLinkHtml = 'Like what you see? Visit the ' +\n",
              "            '<a target=\"_blank\" href=https://colab.research.google.com/notebooks/data_table.ipynb>data table notebook</a>'\n",
              "            + ' to learn more about interactive tables.';\n",
              "          element.innerHTML = '';\n",
              "          dataTable['output_type'] = 'display_data';\n",
              "          await google.colab.output.renderOutput(dataTable, element);\n",
              "          const docLink = document.createElement('div');\n",
              "          docLink.innerHTML = docLinkHtml;\n",
              "          element.appendChild(docLink);\n",
              "        }\n",
              "      </script>\n",
              "    </div>\n",
              "  </div>\n",
              "  "
            ]
          },
          "metadata": {},
          "execution_count": 28
        }
      ]
    },
    {
      "cell_type": "code",
      "source": [
        "from sklearn.cluster import KMeans"
      ],
      "metadata": {
        "id": "1igrdXSgCBl1"
      },
      "execution_count": null,
      "outputs": []
    },
    {
      "cell_type": "code",
      "source": [
        "kmeans=KMeans(10)# here 3 indicates the number of clusters "
      ],
      "metadata": {
        "id": "tovdvQdLCPGS"
      },
      "execution_count": null,
      "outputs": []
    },
    {
      "cell_type": "code",
      "source": [
        "kmeans.fit(new_data) #training takes place with the entire data "
      ],
      "metadata": {
        "colab": {
          "base_uri": "https://localhost:8080/"
        },
        "id": "lSEVJYTOCZh0",
        "outputId": "46b65b23-832f-4541-9d9c-55127a274f2a"
      },
      "execution_count": null,
      "outputs": [
        {
          "output_type": "execute_result",
          "data": {
            "text/plain": [
              "KMeans(n_clusters=10)"
            ]
          },
          "metadata": {},
          "execution_count": 35
        }
      ]
    },
    {
      "cell_type": "code",
      "source": [
        "identified_clusters=kmeans.fit_predict(new_data)"
      ],
      "metadata": {
        "id": "3Ct2nK86EAcC"
      },
      "execution_count": null,
      "outputs": []
    },
    {
      "cell_type": "code",
      "source": [
        "identified_clusters"
      ],
      "metadata": {
        "colab": {
          "base_uri": "https://localhost:8080/"
        },
        "id": "X98GZwcnEV62",
        "outputId": "b13324f4-8d38-45df-89e4-616dceab5567"
      },
      "execution_count": null,
      "outputs": [
        {
          "output_type": "execute_result",
          "data": {
            "text/plain": [
              "array([2, 0, 2, 2, 1, 0, 2, 1, 2, 0, 1, 1, 2, 2, 0, 2, 0, 2, 2, 0, 2, 0,\n",
              "       0, 0, 2, 1, 1, 1, 1, 2, 2, 1, 0, 1, 1, 1, 2, 1, 2, 1, 1, 0, 1, 2,\n",
              "       1, 0, 1, 1, 2, 1, 2, 1, 1, 0, 2, 1, 1, 2, 2, 0, 1, 1, 1, 1, 1, 1,\n",
              "       2, 1, 1, 1, 1, 2, 0, 0, 2, 0, 0, 1, 2, 2, 1, 1, 1, 1, 0, 1, 1, 2,\n",
              "       1, 1, 1, 0, 2, 0, 2, 2, 1, 1, 2, 1, 0, 0, 1, 1, 1, 1, 2, 1, 0, 1,\n",
              "       1, 0, 2, 0, 2, 2, 1, 0, 1, 0, 0, 2, 2, 2, 2, 1, 2, 0, 1, 0, 1, 0,\n",
              "       2, 1, 0, 0, 1, 0, 0, 0, 1, 1, 2, 2, 0, 2, 1, 1, 2, 1, 1, 2, 1, 1,\n",
              "       0, 2, 0, 0, 2, 0, 1, 2, 0, 0, 2, 1, 1, 0, 1, 0, 1, 2, 0, 2, 0, 0,\n",
              "       1, 1, 1, 1, 1, 2, 1, 1, 1, 1, 0, 1, 1, 1, 0, 1, 1, 1, 0, 1, 1, 0,\n",
              "       1, 0, 1, 1, 1, 1, 0, 1, 0, 1, 1, 1, 2, 1, 2, 1, 0, 1, 2, 1, 0, 2,\n",
              "       0, 1, 2, 2, 0, 0, 1, 1, 1, 1, 2, 1, 1, 0, 2, 0, 0, 2, 2, 0, 1, 1,\n",
              "       2, 1, 2, 2, 2, 1, 0, 1, 0, 0, 2, 1, 0, 0, 1, 1, 2, 1, 0, 0, 1, 1,\n",
              "       1, 0, 0, 2, 1, 2, 0, 1, 2, 1, 1, 0, 2, 1, 2, 0, 1, 1, 0, 0, 2, 1,\n",
              "       0, 0, 1, 2, 1, 0, 0, 1, 2, 1, 2, 0, 2, 1, 1, 1, 1, 2, 1, 1, 2, 1,\n",
              "       1, 0, 0, 0, 0, 0, 2, 0, 1, 1, 1, 2, 0, 0, 0, 1, 2, 0, 0, 0, 1, 1,\n",
              "       0, 1, 0, 1, 1, 2, 0, 2, 1, 1, 1, 0, 1, 1, 1, 0, 1, 2, 1, 2, 1, 1,\n",
              "       1, 2, 2, 1, 1, 2, 1, 0, 2, 1, 1, 2, 2, 0, 2, 1, 1, 1, 0, 0, 1, 1,\n",
              "       2, 2, 0, 1, 1, 1, 2, 0, 0, 1, 0, 2, 1, 0, 2, 0, 2, 1, 1, 0, 0, 1,\n",
              "       1, 2, 1, 0, 0, 0, 2, 0, 2, 1, 1, 1, 1, 1, 0, 1, 0, 0, 1, 0, 0, 2,\n",
              "       1, 0, 2, 1, 0, 1, 1, 0, 1, 1, 0, 2, 0, 2, 0, 0, 0, 0, 2, 1, 0, 1,\n",
              "       1, 2, 0, 0, 1, 2, 1, 2, 0, 2, 2, 2, 1, 0, 1, 2, 1, 1, 1, 2, 1, 1,\n",
              "       1, 2, 2, 2, 1, 0, 2, 0, 2, 2, 2, 1, 1, 1, 1, 2, 0, 0, 1, 2, 0, 1,\n",
              "       0, 0, 0, 0, 1, 1, 1, 1, 2, 2, 2, 2, 1, 0, 2, 2, 2, 1, 1, 1, 1, 0,\n",
              "       0, 2, 0, 2, 1, 0, 1, 1, 0, 0, 0, 2, 1, 1, 0, 1, 1, 2, 2, 0, 2, 1,\n",
              "       2, 0, 1, 0, 2, 2, 0, 1, 1, 2, 0, 1, 0, 1, 1, 0, 2, 0, 1, 1, 0, 0,\n",
              "       1, 0, 2, 1, 0, 2, 2, 0, 0, 0, 2, 1, 1, 2, 0, 2, 1, 0, 1, 2, 2, 1,\n",
              "       0, 1, 0, 2, 1, 2, 0, 0, 0, 1, 2, 2, 2, 0, 2, 2, 2, 1, 1, 1, 1, 0,\n",
              "       1, 1, 1, 1, 2, 1, 1, 2, 0, 1, 0, 0, 2, 2, 1, 0, 0, 1, 2, 2, 1, 0,\n",
              "       1, 1, 1, 1, 2, 1, 0, 1, 1, 0, 0, 0, 0, 1, 2, 1, 0, 1, 1, 1, 2, 2,\n",
              "       1, 0, 2, 0, 2, 0, 0, 1, 2, 0, 2, 1, 0, 1, 0, 1, 1, 2, 2, 1, 2, 2,\n",
              "       0, 1, 1, 1, 1, 1, 1, 2, 0, 1, 2, 1, 1, 2, 0, 0, 1, 1, 2, 2, 1, 1,\n",
              "       2, 1, 1, 1, 1, 2, 1, 0, 2, 2, 2, 1, 0, 1, 2, 2, 2, 0, 2, 1, 1, 1,\n",
              "       1, 2, 2, 1, 2, 0, 2, 0, 1, 1, 1, 0, 0, 0, 1, 0, 1, 0, 1, 2, 0, 1,\n",
              "       1, 0, 1, 1, 0, 0, 1, 2, 1, 2, 0, 1, 2, 2, 0, 2, 2, 2, 0, 2, 0, 0,\n",
              "       0, 0, 2, 1, 2, 0, 0, 1, 0, 2, 1, 0, 1, 2, 2, 1, 1, 2, 1, 0, 0, 0,\n",
              "       2, 0, 1, 1, 2, 2, 1, 2, 0, 2, 1, 0, 1, 1, 1, 1, 1, 2, 1, 1, 1, 0,\n",
              "       1, 1, 1, 2, 1, 0, 2, 1, 2, 1, 0, 0, 1, 1, 2, 1, 1, 2, 0, 0, 1, 0,\n",
              "       2, 2, 2, 1, 2, 1, 2, 1, 1, 0, 1, 2, 1, 0, 1, 0, 2, 1, 1, 0, 2, 2,\n",
              "       1, 1, 1, 2, 0, 2, 1, 1, 1, 0, 2, 1, 0, 1, 1, 1, 1, 1, 1, 2, 2, 2,\n",
              "       2, 2, 0, 2, 0, 1, 1, 2, 1, 0, 2, 1, 1, 0, 1, 1, 1, 2, 0, 0, 1, 1,\n",
              "       1, 0, 0, 0, 0, 1, 0, 1, 0, 2, 2, 1, 1, 0, 1, 1, 1, 2, 2, 2, 2, 2,\n",
              "       2, 0, 0, 1, 2, 2, 0, 2, 1, 0, 0, 0, 1, 2, 1, 1, 2, 1, 2, 2, 1, 1,\n",
              "       0, 1, 0, 0, 0, 1, 1, 0, 1, 1, 2, 2, 0, 1, 1, 1, 1, 2, 0, 1, 0, 1,\n",
              "       1, 0, 0, 0, 0, 0, 0, 1, 0, 0, 1, 1, 0, 1, 1, 1, 0, 1, 2, 1, 2, 0,\n",
              "       2, 1, 2, 0, 1, 0, 1, 1, 0, 2, 1, 1, 1, 1, 2, 2, 0, 2, 0, 1, 2, 1,\n",
              "       2, 2, 0, 1, 0, 2, 2, 1, 1, 0], dtype=int32)"
            ]
          },
          "metadata": {},
          "execution_count": 33
        }
      ]
    },
    {
      "cell_type": "code",
      "source": [],
      "metadata": {
        "id": "UFJKT6AFFGCB"
      },
      "execution_count": null,
      "outputs": []
    }
  ]
}